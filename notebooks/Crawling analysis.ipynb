{
 "cells": [
  {
   "cell_type": "markdown",
   "id": "a48e4e42",
   "metadata": {},
   "source": [
    "###  import the necessary packages for the analysis"
   ]
  },
  {
   "cell_type": "code",
   "execution_count": null,
   "id": "86c678d1",
   "metadata": {},
   "outputs": [],
   "source": []
  },
  {
   "cell_type": "code",
   "execution_count": 78,
   "id": "a33db199",
   "metadata": {},
   "outputs": [],
   "source": [
    "import numpy as np\n",
    "import pandas as pd\n",
    "from pandas.api.types import is_string_dtype\n",
    "from pandas.api.types import is_numeric_dtype\n",
    "from datetime import datetime\n",
    "import os"
   ]
  },
  {
   "cell_type": "markdown",
   "id": "bf0d0193",
   "metadata": {},
   "source": [
    "include the files path for bfs"
   ]
  },
  {
   "cell_type": "code",
   "execution_count": 79,
   "id": "571cc97a",
   "metadata": {},
   "outputs": [],
   "source": [
    "log_dir ='../log/'\n",
    "\n",
    "log_bfs =log_dir + 'in_crawlinglog_bfs_'\n",
    "proc_bfs = log_dir + 'in_processlog_bfs_'\n",
    "log_block = log_dir + 'in_crawlinglog_block_'\n",
    "proc_block = log_dir + 'in_processlog_block_'"
   ]
  },
  {
   "cell_type": "markdown",
   "id": "3b9759c4",
   "metadata": {},
   "source": [
    "### for each of the base site load the logs and the saved url information"
   ]
  },
  {
   "cell_type": "code",
   "execution_count": 80,
   "id": "d8901196",
   "metadata": {},
   "outputs": [],
   "source": [
    "num_base = 3\n",
    "bfs_log_data =[]\n",
    "block_log_data = []\n",
    "bfs_proc_data = []\n",
    "block_proc_data  =[]"
   ]
  },
  {
   "cell_type": "markdown",
   "id": "aa4ed3a8",
   "metadata": {},
   "source": [
    "load all the block values into a list variable for further processing"
   ]
  },
  {
   "cell_type": "code",
   "execution_count": 81,
   "id": "75847305",
   "metadata": {},
   "outputs": [],
   "source": [
    "for i in range(num_base):\n",
    "    path_suffix = str(i+1) + \".csv\"\n",
    "    bfs_log_data.append(pd.read_csv(log_bfs + path_suffix))\n",
    "    block_log_data.append(pd.read_csv(log_block + path_suffix))\n",
    "    bfs_proc_data.append(pd.read_csv(proc_bfs + path_suffix))\n",
    "    block_proc_data.append(pd.read_csv(proc_block + path_suffix))"
   ]
  },
  {
   "cell_type": "code",
   "execution_count": 82,
   "id": "e47d4ed8",
   "metadata": {},
   "outputs": [
    {
     "data": {
      "text/html": [
       "<div>\n",
       "<style scoped>\n",
       "    .dataframe tbody tr th:only-of-type {\n",
       "        vertical-align: middle;\n",
       "    }\n",
       "\n",
       "    .dataframe tbody tr th {\n",
       "        vertical-align: top;\n",
       "    }\n",
       "\n",
       "    .dataframe thead th {\n",
       "        text-align: right;\n",
       "    }\n",
       "</style>\n",
       "<table border=\"1\" class=\"dataframe\">\n",
       "  <thead>\n",
       "    <tr style=\"text-align: right;\">\n",
       "      <th></th>\n",
       "      <th>url</th>\n",
       "      <th>timestamp</th>\n",
       "    </tr>\n",
       "  </thead>\n",
       "  <tbody>\n",
       "    <tr>\n",
       "      <th>0</th>\n",
       "      <td>https://open.canada.ca/en/open-data</td>\n",
       "      <td>1675195450764562610</td>\n",
       "    </tr>\n",
       "    <tr>\n",
       "      <th>1</th>\n",
       "      <td>https://search.open.canada.ca/opendata/?page=1...</td>\n",
       "      <td>1675195456791647358</td>\n",
       "    </tr>\n",
       "    <tr>\n",
       "      <th>2</th>\n",
       "      <td>https://search.open.canada.ca/opendata/?page=1...</td>\n",
       "      <td>1675195459599906481</td>\n",
       "    </tr>\n",
       "    <tr>\n",
       "      <th>3</th>\n",
       "      <td>https://search.open.canada.ca/opendata/?page=1...</td>\n",
       "      <td>1675195463977216263</td>\n",
       "    </tr>\n",
       "    <tr>\n",
       "      <th>4</th>\n",
       "      <td>https://search.open.canada.ca/opendata/?page=1...</td>\n",
       "      <td>1675195481008531945</td>\n",
       "    </tr>\n",
       "  </tbody>\n",
       "</table>\n",
       "</div>"
      ],
      "text/plain": [
       "                                                 url            timestamp\n",
       "0                https://open.canada.ca/en/open-data  1675195450764562610\n",
       "1  https://search.open.canada.ca/opendata/?page=1...  1675195456791647358\n",
       "2  https://search.open.canada.ca/opendata/?page=1...  1675195459599906481\n",
       "3  https://search.open.canada.ca/opendata/?page=1...  1675195463977216263\n",
       "4  https://search.open.canada.ca/opendata/?page=1...  1675195481008531945"
      ]
     },
     "execution_count": 82,
     "metadata": {},
     "output_type": "execute_result"
    }
   ],
   "source": [
    "bfs_log_data[0].head()"
   ]
  },
  {
   "cell_type": "code",
   "execution_count": 83,
   "id": "cd05d978",
   "metadata": {},
   "outputs": [
    {
     "data": {
      "text/html": [
       "<div>\n",
       "<style scoped>\n",
       "    .dataframe tbody tr th:only-of-type {\n",
       "        vertical-align: middle;\n",
       "    }\n",
       "\n",
       "    .dataframe tbody tr th {\n",
       "        vertical-align: top;\n",
       "    }\n",
       "\n",
       "    .dataframe thead th {\n",
       "        text-align: right;\n",
       "    }\n",
       "</style>\n",
       "<table border=\"1\" class=\"dataframe\">\n",
       "  <thead>\n",
       "    <tr style=\"text-align: right;\">\n",
       "      <th></th>\n",
       "      <th>url</th>\n",
       "      <th>category</th>\n",
       "      <th>timestamp</th>\n",
       "    </tr>\n",
       "  </thead>\n",
       "  <tbody>\n",
       "    <tr>\n",
       "      <th>52</th>\n",
       "      <td>https://open.canada.ca/en/open-data</td>\n",
       "      <td>health</td>\n",
       "      <td>1678361571648052435</td>\n",
       "    </tr>\n",
       "    <tr>\n",
       "      <th>53</th>\n",
       "      <td>url</td>\n",
       "      <td>category</td>\n",
       "      <td>timestamp</td>\n",
       "    </tr>\n",
       "    <tr>\n",
       "      <th>54</th>\n",
       "      <td>url</td>\n",
       "      <td>category</td>\n",
       "      <td>timestamp</td>\n",
       "    </tr>\n",
       "    <tr>\n",
       "      <th>55</th>\n",
       "      <td>url</td>\n",
       "      <td>category</td>\n",
       "      <td>timestamp</td>\n",
       "    </tr>\n",
       "    <tr>\n",
       "      <th>56</th>\n",
       "      <td>url</td>\n",
       "      <td>category</td>\n",
       "      <td>timestamp</td>\n",
       "    </tr>\n",
       "  </tbody>\n",
       "</table>\n",
       "</div>"
      ],
      "text/plain": [
       "                                    url  category            timestamp\n",
       "52  https://open.canada.ca/en/open-data    health  1678361571648052435\n",
       "53                                  url  category            timestamp\n",
       "54                                  url  category            timestamp\n",
       "55                                  url  category            timestamp\n",
       "56                                  url  category            timestamp"
      ]
     },
     "execution_count": 83,
     "metadata": {},
     "output_type": "execute_result"
    }
   ],
   "source": [
    "bfs_proc_data[0].tail()"
   ]
  },
  {
   "cell_type": "code",
   "execution_count": 84,
   "id": "5061aaab",
   "metadata": {},
   "outputs": [
    {
     "data": {
      "text/plain": [
       "0                  category\n",
       "1                  category\n",
       "2                  category\n",
       "3                    health\n",
       "4                  category\n",
       "               ...         \n",
       "3302              education\n",
       "3303             technology\n",
       "3304              transport\n",
       "3305    climate_environment\n",
       "3306              education\n",
       "Name: category, Length: 3307, dtype: object"
      ]
     },
     "execution_count": 84,
     "metadata": {},
     "output_type": "execute_result"
    }
   ],
   "source": [
    "bfs_proc_data[2]['category']"
   ]
  },
  {
   "cell_type": "code",
   "execution_count": 85,
   "id": "5e7ffd7b",
   "metadata": {},
   "outputs": [
    {
     "data": {
      "text/plain": [
       "379"
      ]
     },
     "execution_count": 85,
     "metadata": {},
     "output_type": "execute_result"
    }
   ],
   "source": [
    "len(block_proc_data[2]['timestamp'].unique())"
   ]
  },
  {
   "cell_type": "markdown",
   "id": "635ae20e",
   "metadata": {},
   "source": [
    "process the crawling time in a file for each algorithm\n",
    "Create functions to process the crawling time for each of the algorithms. The function basically calculate the elapse time. (There could be some element of capping here). The function should produce a new panda dataframe"
   ]
  },
  {
   "cell_type": "code",
   "execution_count": 86,
   "id": "e8d99e1f",
   "metadata": {},
   "outputs": [],
   "source": [
    "def cleanData(data):\n",
    "    result = data.loc[data['timestamp']!='timestamp']\n",
    "    return result\n",
    "    \n",
    "def generateElapseTime(data,max_value=10):\n",
    "    result = cleanData(data.copy())\n",
    "    tempData =[]\n",
    "    previousValue = float(result['timestamp'].iloc[0])\n",
    "    for row in result.itertuples():\n",
    "        currentValue = float(row.timestamp)\n",
    "        tempData.append(currentValue - previousValue)\n",
    "        previousValue = currentValue\n",
    "    \n",
    "    result['timeelapse'] = tempData\n",
    "    return result\n",
    "\n",
    "def saveFile(dts,filenames):\n",
    "    container = 'elapsed/'\n",
    "    if not os.path.exists(container):\n",
    "        os.mkdir(container)\n",
    "    ind = 1\n",
    "    for dt in dts:\n",
    "        flname = container+filenames+str(ind)+'.csv'\n",
    "        ind+=1\n",
    "        dt.to_csv(flname, index=False)"
   ]
  },
  {
   "cell_type": "markdown",
   "id": "4770a0e2",
   "metadata": {},
   "source": [
    "include the time elapse column to all the data points"
   ]
  },
  {
   "cell_type": "code",
   "execution_count": 87,
   "id": "d826042b",
   "metadata": {},
   "outputs": [],
   "source": [
    "\n",
    "bfs_log_data_elapse = [generateElapseTime(x) for x in bfs_log_data]\n",
    "block_log_data_elapse = [generateElapseTime(x) for x in block_log_data]\n",
    "bfs_proc_data_elapse = [generateElapseTime(x) for x in bfs_proc_data]\n",
    "block_proc_data_elapse = [generateElapseTime(x) for x in block_proc_data]\n",
    "\n",
    "\n",
    "# temp = generateElapseTime(block_proc_data[0])\n",
    "# temp"
   ]
  },
  {
   "cell_type": "code",
   "execution_count": 88,
   "id": "e2473c82",
   "metadata": {},
   "outputs": [
    {
     "data": {
      "text/html": [
       "<div>\n",
       "<style scoped>\n",
       "    .dataframe tbody tr th:only-of-type {\n",
       "        vertical-align: middle;\n",
       "    }\n",
       "\n",
       "    .dataframe tbody tr th {\n",
       "        vertical-align: top;\n",
       "    }\n",
       "\n",
       "    .dataframe thead th {\n",
       "        text-align: right;\n",
       "    }\n",
       "</style>\n",
       "<table border=\"1\" class=\"dataframe\">\n",
       "  <thead>\n",
       "    <tr style=\"text-align: right;\">\n",
       "      <th></th>\n",
       "      <th>url</th>\n",
       "      <th>category</th>\n",
       "      <th>timestamp</th>\n",
       "      <th>timeelapse</th>\n",
       "    </tr>\n",
       "  </thead>\n",
       "  <tbody>\n",
       "    <tr>\n",
       "      <th>3</th>\n",
       "      <td>https://open.canada.ca/en/open-data</td>\n",
       "      <td>education</td>\n",
       "      <td>1675203012265332288</td>\n",
       "      <td>0.000000e+00</td>\n",
       "    </tr>\n",
       "    <tr>\n",
       "      <th>18</th>\n",
       "      <td>https://open.canada.ca/en/open-data</td>\n",
       "      <td>education</td>\n",
       "      <td>1678297437210983739</td>\n",
       "      <td>3.094425e+15</td>\n",
       "    </tr>\n",
       "    <tr>\n",
       "      <th>28</th>\n",
       "      <td>https://open.canada.ca/en/open-data</td>\n",
       "      <td>education</td>\n",
       "      <td>1678348279741716959</td>\n",
       "      <td>5.084253e+13</td>\n",
       "    </tr>\n",
       "    <tr>\n",
       "      <th>32</th>\n",
       "      <td>https://open.canada.ca/en/open-data</td>\n",
       "      <td>education</td>\n",
       "      <td>1678348462475748420</td>\n",
       "      <td>1.827340e+11</td>\n",
       "    </tr>\n",
       "    <tr>\n",
       "      <th>48</th>\n",
       "      <td>https://open.canada.ca/en/open-data</td>\n",
       "      <td>education</td>\n",
       "      <td>1678352824278772099</td>\n",
       "      <td>4.361803e+12</td>\n",
       "    </tr>\n",
       "    <tr>\n",
       "      <th>52</th>\n",
       "      <td>https://open.canada.ca/en/open-data</td>\n",
       "      <td>health</td>\n",
       "      <td>1678361571648052435</td>\n",
       "      <td>8.747369e+12</td>\n",
       "    </tr>\n",
       "  </tbody>\n",
       "</table>\n",
       "</div>"
      ],
      "text/plain": [
       "                                    url   category            timestamp  \\\n",
       "3   https://open.canada.ca/en/open-data  education  1675203012265332288   \n",
       "18  https://open.canada.ca/en/open-data  education  1678297437210983739   \n",
       "28  https://open.canada.ca/en/open-data  education  1678348279741716959   \n",
       "32  https://open.canada.ca/en/open-data  education  1678348462475748420   \n",
       "48  https://open.canada.ca/en/open-data  education  1678352824278772099   \n",
       "52  https://open.canada.ca/en/open-data     health  1678361571648052435   \n",
       "\n",
       "      timeelapse  \n",
       "3   0.000000e+00  \n",
       "18  3.094425e+15  \n",
       "28  5.084253e+13  \n",
       "32  1.827340e+11  \n",
       "48  4.361803e+12  \n",
       "52  8.747369e+12  "
      ]
     },
     "execution_count": 88,
     "metadata": {},
     "output_type": "execute_result"
    }
   ],
   "source": [
    "bfs_proc_data_elapse[0]"
   ]
  },
  {
   "cell_type": "markdown",
   "id": "453e1cfd",
   "metadata": {},
   "source": [
    "Save the csv file for later processing"
   ]
  },
  {
   "cell_type": "code",
   "execution_count": 89,
   "id": "85233221",
   "metadata": {},
   "outputs": [],
   "source": [
    "saveFile(bfs_log_data_elapse,'bfs_log_data_elapse')\n",
    "saveFile(block_log_data_elapse,'block_log_data_elapse')\n",
    "saveFile(bfs_proc_data_elapse,'bfs_proc_data_elapse')\n",
    "saveFile(block_proc_data_elapse,'block_proc_data_elapse')"
   ]
  },
  {
   "cell_type": "markdown",
   "id": "84985b3c",
   "metadata": {},
   "source": [
    "Saved successfully"
   ]
  }
 ],
 "metadata": {
  "kernelspec": {
   "display_name": "Python 3 (ipykernel)",
   "language": "python",
   "name": "python3"
  },
  "language_info": {
   "codemirror_mode": {
    "name": "ipython",
    "version": 3
   },
   "file_extension": ".py",
   "mimetype": "text/x-python",
   "name": "python",
   "nbconvert_exporter": "python",
   "pygments_lexer": "ipython3",
   "version": "3.10.12"
  }
 },
 "nbformat": 4,
 "nbformat_minor": 5
}
