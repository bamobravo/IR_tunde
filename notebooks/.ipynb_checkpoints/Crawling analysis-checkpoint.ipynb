{
 "cells": [
  {
   "cell_type": "markdown",
   "id": "a48e4e42",
   "metadata": {},
   "source": [
    "###  import the necessary packages for the analysis"
   ]
  },
  {
   "cell_type": "code",
   "execution_count": 38,
   "id": "a33db199",
   "metadata": {},
   "outputs": [],
   "source": [
    "import numpy as np\n",
    "import pandas as pd\n",
    "from pandas.api.types import is_string_dtype\n",
    "from pandas.api.types import is_numeric_dtype\n",
    "from datetime import datetime"
   ]
  },
  {
   "cell_type": "markdown",
   "id": "bf0d0193",
   "metadata": {},
   "source": [
    "include the files path for bfs"
   ]
  },
  {
   "cell_type": "code",
   "execution_count": 4,
   "id": "571cc97a",
   "metadata": {},
   "outputs": [],
   "source": [
    "log_dir ='../log/'\n",
    "\n",
    "log_bfs =log_dir + 'in_crawlinglog_bfs_'\n",
    "proc_bfs = log_dir + 'in_processlog_bfs_'\n",
    "log_block = log_dir + 'in_crawlinglog_block_'\n",
    "proc_block = log_dir + 'in_processlog_block_'"
   ]
  },
  {
   "cell_type": "markdown",
   "id": "3b9759c4",
   "metadata": {},
   "source": [
    "### for each of the base site load the logs and the saved url information"
   ]
  },
  {
   "cell_type": "code",
   "execution_count": 5,
   "id": "d8901196",
   "metadata": {},
   "outputs": [],
   "source": [
    "num_base = 3\n",
    "bfs_log_data =[]\n",
    "block_log_data = []\n",
    "bfs_proc_data = []\n",
    "block_proc_data  =[]"
   ]
  },
  {
   "cell_type": "markdown",
   "id": "99d9045a",
   "metadata": {},
   "source": [
    "load all the block values into a list variable for further processing"
   ]
  },
  {
   "cell_type": "code",
   "execution_count": 9,
   "id": "75847305",
   "metadata": {},
   "outputs": [],
   "source": [
    "for i in range(num_base):\n",
    "    path_suffix = str(i+1) + \".csv\"\n",
    "    bfs_log_data.append(pd.read_csv(log_bfs + path_suffix))\n",
    "    block_log_data.append(pd.read_csv(log_block + path_suffix))\n",
    "    bfs_proc_data.append(pd.read_csv(proc_bfs + path_suffix))\n",
    "    block_proc_data.append(pd.read_csv(proc_block + path_suffix))"
   ]
  },
  {
   "cell_type": "code",
   "execution_count": 10,
   "id": "e47d4ed8",
   "metadata": {},
   "outputs": [
    {
     "data": {
      "text/html": [
       "<div>\n",
       "<style scoped>\n",
       "    .dataframe tbody tr th:only-of-type {\n",
       "        vertical-align: middle;\n",
       "    }\n",
       "\n",
       "    .dataframe tbody tr th {\n",
       "        vertical-align: top;\n",
       "    }\n",
       "\n",
       "    .dataframe thead th {\n",
       "        text-align: right;\n",
       "    }\n",
       "</style>\n",
       "<table border=\"1\" class=\"dataframe\">\n",
       "  <thead>\n",
       "    <tr style=\"text-align: right;\">\n",
       "      <th></th>\n",
       "      <th>url</th>\n",
       "      <th>timestamp</th>\n",
       "    </tr>\n",
       "  </thead>\n",
       "  <tbody>\n",
       "    <tr>\n",
       "      <th>0</th>\n",
       "      <td>https://open.canada.ca/en/open-data</td>\n",
       "      <td>1675195450764562610</td>\n",
       "    </tr>\n",
       "    <tr>\n",
       "      <th>1</th>\n",
       "      <td>https://search.open.canada.ca/opendata/?page=1...</td>\n",
       "      <td>1675195456791647358</td>\n",
       "    </tr>\n",
       "    <tr>\n",
       "      <th>2</th>\n",
       "      <td>https://search.open.canada.ca/opendata/?page=1...</td>\n",
       "      <td>1675195459599906481</td>\n",
       "    </tr>\n",
       "    <tr>\n",
       "      <th>3</th>\n",
       "      <td>https://search.open.canada.ca/opendata/?page=1...</td>\n",
       "      <td>1675195463977216263</td>\n",
       "    </tr>\n",
       "    <tr>\n",
       "      <th>4</th>\n",
       "      <td>https://search.open.canada.ca/opendata/?page=1...</td>\n",
       "      <td>1675195481008531945</td>\n",
       "    </tr>\n",
       "  </tbody>\n",
       "</table>\n",
       "</div>"
      ],
      "text/plain": [
       "                                                 url            timestamp\n",
       "0                https://open.canada.ca/en/open-data  1675195450764562610\n",
       "1  https://search.open.canada.ca/opendata/?page=1...  1675195456791647358\n",
       "2  https://search.open.canada.ca/opendata/?page=1...  1675195459599906481\n",
       "3  https://search.open.canada.ca/opendata/?page=1...  1675195463977216263\n",
       "4  https://search.open.canada.ca/opendata/?page=1...  1675195481008531945"
      ]
     },
     "execution_count": 10,
     "metadata": {},
     "output_type": "execute_result"
    }
   ],
   "source": [
    "bfs_log_data[0].head()"
   ]
  },
  {
   "cell_type": "code",
   "execution_count": 11,
   "id": "cd05d978",
   "metadata": {},
   "outputs": [
    {
     "data": {
      "text/html": [
       "<div>\n",
       "<style scoped>\n",
       "    .dataframe tbody tr th:only-of-type {\n",
       "        vertical-align: middle;\n",
       "    }\n",
       "\n",
       "    .dataframe tbody tr th {\n",
       "        vertical-align: top;\n",
       "    }\n",
       "\n",
       "    .dataframe thead th {\n",
       "        text-align: right;\n",
       "    }\n",
       "</style>\n",
       "<table border=\"1\" class=\"dataframe\">\n",
       "  <thead>\n",
       "    <tr style=\"text-align: right;\">\n",
       "      <th></th>\n",
       "      <th>url</th>\n",
       "      <th>category</th>\n",
       "      <th>timestamp</th>\n",
       "    </tr>\n",
       "  </thead>\n",
       "  <tbody>\n",
       "    <tr>\n",
       "      <th>52</th>\n",
       "      <td>https://open.canada.ca/en/open-data</td>\n",
       "      <td>health</td>\n",
       "      <td>1678361571648052435</td>\n",
       "    </tr>\n",
       "    <tr>\n",
       "      <th>53</th>\n",
       "      <td>url</td>\n",
       "      <td>category</td>\n",
       "      <td>timestamp</td>\n",
       "    </tr>\n",
       "    <tr>\n",
       "      <th>54</th>\n",
       "      <td>url</td>\n",
       "      <td>category</td>\n",
       "      <td>timestamp</td>\n",
       "    </tr>\n",
       "    <tr>\n",
       "      <th>55</th>\n",
       "      <td>url</td>\n",
       "      <td>category</td>\n",
       "      <td>timestamp</td>\n",
       "    </tr>\n",
       "    <tr>\n",
       "      <th>56</th>\n",
       "      <td>url</td>\n",
       "      <td>category</td>\n",
       "      <td>timestamp</td>\n",
       "    </tr>\n",
       "  </tbody>\n",
       "</table>\n",
       "</div>"
      ],
      "text/plain": [
       "                                    url  category            timestamp\n",
       "52  https://open.canada.ca/en/open-data    health  1678361571648052435\n",
       "53                                  url  category            timestamp\n",
       "54                                  url  category            timestamp\n",
       "55                                  url  category            timestamp\n",
       "56                                  url  category            timestamp"
      ]
     },
     "execution_count": 11,
     "metadata": {},
     "output_type": "execute_result"
    }
   ],
   "source": [
    "bfs_proc_data[0].tail()"
   ]
  },
  {
   "cell_type": "code",
   "execution_count": 12,
   "id": "5061aaab",
   "metadata": {},
   "outputs": [
    {
     "data": {
      "text/plain": [
       "0                  category\n",
       "1                  category\n",
       "2                  category\n",
       "3                    health\n",
       "4                  category\n",
       "               ...         \n",
       "3302              education\n",
       "3303             technology\n",
       "3304              transport\n",
       "3305    climate_environment\n",
       "3306              education\n",
       "Name: category, Length: 3307, dtype: object"
      ]
     },
     "execution_count": 12,
     "metadata": {},
     "output_type": "execute_result"
    }
   ],
   "source": [
    "bfs_proc_data[2]['category']"
   ]
  },
  {
   "cell_type": "code",
   "execution_count": 13,
   "id": "5e7ffd7b",
   "metadata": {},
   "outputs": [
    {
     "data": {
      "text/plain": [
       "379"
      ]
     },
     "execution_count": 13,
     "metadata": {},
     "output_type": "execute_result"
    }
   ],
   "source": [
    "len(block_proc_data[2]['timestamp'].unique())"
   ]
  },
  {
   "cell_type": "markdown",
   "id": "635ae20e",
   "metadata": {},
   "source": [
    "process the crawling time in a file for each algorithm\n",
    "Create functions to process the crawling time for each of the algorithms. The function basically calculate the elapse time. (There could be some element of capping here). The function should produce a new panda dataframe"
   ]
  },
  {
   "cell_type": "code",
   "execution_count": 42,
   "id": "e8d99e1f",
   "metadata": {},
   "outputs": [],
   "source": [
    "def cleanData(data):\n",
    "    result = data.loc[data['timestamp']!='timestamp']\n",
    "    return result\n",
    "    \n",
    "def generateElapseTime(data,max_value=10):\n",
    "    result = cleanData(data.copy())\n",
    "    tempData =[]\n",
    "    previousValue = float(result['timestamp'].iloc[0])\n",
    "    for row in result.itertuples():\n",
    "        print(row)\n",
    "        currentValue = float(row.timestamp)\n",
    "        tempData.append(currentValue - previousValue)\n",
    "        previousValue = currentValue\n",
    "    \n",
    "    result['timeelapse'] = tempData\n",
    "    return result"
   ]
  },
  {
   "cell_type": "code",
   "execution_count": 43,
   "id": "c0fa5f3e",
   "metadata": {},
   "outputs": [
    {
     "name": "stdout",
     "output_type": "stream",
     "text": [
      "Pandas(Index=3, url='https://open.canada.ca/en/open-data', category='education', timestamp='1675203012265332288')\n"
     ]
    },
    {
     "ename": "TypeError",
     "evalue": "unsupported operand type(s) for -: 'float' and 'str'",
     "output_type": "error",
     "traceback": [
      "\u001b[0;31m---------------------------------------------------------------------------\u001b[0m",
      "\u001b[0;31mTypeError\u001b[0m                                 Traceback (most recent call last)",
      "Cell \u001b[0;32mIn[43], line 1\u001b[0m\n\u001b[0;32m----> 1\u001b[0m temp \u001b[38;5;241m=\u001b[39m \u001b[43mgenerateElapseTime\u001b[49m\u001b[43m(\u001b[49m\u001b[43mbfs_proc_data\u001b[49m\u001b[43m[\u001b[49m\u001b[38;5;241;43m0\u001b[39;49m\u001b[43m]\u001b[49m\u001b[43m)\u001b[49m\n\u001b[1;32m      2\u001b[0m temp\n",
      "Cell \u001b[0;32mIn[42], line 12\u001b[0m, in \u001b[0;36mgenerateElapseTime\u001b[0;34m(data, max_value)\u001b[0m\n\u001b[1;32m     10\u001b[0m     \u001b[38;5;28mprint\u001b[39m(row)\n\u001b[1;32m     11\u001b[0m     currentValue \u001b[38;5;241m=\u001b[39m \u001b[38;5;28mfloat\u001b[39m(row\u001b[38;5;241m.\u001b[39mtimestamp)\n\u001b[0;32m---> 12\u001b[0m     tempData\u001b[38;5;241m.\u001b[39mappend(\u001b[43mcurrentValue\u001b[49m\u001b[43m \u001b[49m\u001b[38;5;241;43m-\u001b[39;49m\u001b[43m \u001b[49m\u001b[43mpreviousValue\u001b[49m)\n\u001b[1;32m     13\u001b[0m     previousValue \u001b[38;5;241m=\u001b[39m currentValue\n\u001b[1;32m     15\u001b[0m result[\u001b[38;5;124m'\u001b[39m\u001b[38;5;124mtimeelapse\u001b[39m\u001b[38;5;124m'\u001b[39m] \u001b[38;5;241m=\u001b[39m tempData\n",
      "\u001b[0;31mTypeError\u001b[0m: unsupported operand type(s) for -: 'float' and 'str'"
     ]
    }
   ],
   "source": [
    "temp = generateElapseTime(bfs_proc_data[0])\n",
    "temp"
   ]
  },
  {
   "cell_type": "code",
   "execution_count": 39,
   "id": "ecff0ccf",
   "metadata": {},
   "outputs": [
    {
     "ename": "OSError",
     "evalue": "[Errno 75] Value too large for defined data type",
     "output_type": "error",
     "traceback": [
      "\u001b[0;31m---------------------------------------------------------------------------\u001b[0m",
      "\u001b[0;31mOSError\u001b[0m                                   Traceback (most recent call last)",
      "Cell \u001b[0;32mIn[39], line 1\u001b[0m\n\u001b[0;32m----> 1\u001b[0m \u001b[43mdatetime\u001b[49m\u001b[38;5;241;43m.\u001b[39;49m\u001b[43mfromtimestamp\u001b[49m\u001b[43m(\u001b[49m\u001b[38;5;241;43m1675203012265332288\u001b[39;49m\u001b[43m)\u001b[49m\n",
      "\u001b[0;31mOSError\u001b[0m: [Errno 75] Value too large for defined data type"
     ]
    }
   ],
   "source": [
    "datetime.fromtimestamp(1675203012265332288)"
   ]
  }
 ],
 "metadata": {
  "kernelspec": {
   "display_name": "Python 3 (ipykernel)",
   "language": "python",
   "name": "python3"
  },
  "language_info": {
   "codemirror_mode": {
    "name": "ipython",
    "version": 3
   },
   "file_extension": ".py",
   "mimetype": "text/x-python",
   "name": "python",
   "nbconvert_exporter": "python",
   "pygments_lexer": "ipython3",
   "version": "3.10.12"
  }
 },
 "nbformat": 4,
 "nbformat_minor": 5
}
